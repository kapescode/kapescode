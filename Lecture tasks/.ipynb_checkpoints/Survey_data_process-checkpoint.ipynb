{
 "cells": [
  {
   "cell_type": "code",
   "execution_count": 32,
   "id": "f0b42074",
   "metadata": {},
   "outputs": [
    {
     "data": {
      "text/html": [
       "<div>\n",
       "<style scoped>\n",
       "    .dataframe tbody tr th:only-of-type {\n",
       "        vertical-align: middle;\n",
       "    }\n",
       "\n",
       "    .dataframe tbody tr th {\n",
       "        vertical-align: top;\n",
       "    }\n",
       "\n",
       "    .dataframe thead th {\n",
       "        text-align: right;\n",
       "    }\n",
       "</style>\n",
       "<table border=\"1\" class=\"dataframe\">\n",
       "  <thead>\n",
       "    <tr style=\"text-align: right;\">\n",
       "      <th></th>\n",
       "      <th>ID</th>\n",
       "      <th>Age</th>\n",
       "      <th>Income</th>\n",
       "      <th>Property</th>\n",
       "      <th>Num of pets in household</th>\n",
       "    </tr>\n",
       "  </thead>\n",
       "  <tbody>\n",
       "    <tr>\n",
       "      <th>0</th>\n",
       "      <td>14578</td>\n",
       "      <td>75</td>\n",
       "      <td>20000</td>\n",
       "      <td>N</td>\n",
       "      <td>1.0</td>\n",
       "    </tr>\n",
       "    <tr>\n",
       "      <th>1</th>\n",
       "      <td>14615</td>\n",
       "      <td>72</td>\n",
       "      <td>32000</td>\n",
       "      <td>N</td>\n",
       "      <td>2.0</td>\n",
       "    </tr>\n",
       "    <tr>\n",
       "      <th>2</th>\n",
       "      <td>14652</td>\n",
       "      <td>54</td>\n",
       "      <td>2000</td>\n",
       "      <td>no</td>\n",
       "      <td>4.0</td>\n",
       "    </tr>\n",
       "    <tr>\n",
       "      <th>3</th>\n",
       "      <td>14689</td>\n",
       "      <td>81</td>\n",
       "      <td>29000</td>\n",
       "      <td>no</td>\n",
       "      <td>1.0</td>\n",
       "    </tr>\n",
       "    <tr>\n",
       "      <th>4</th>\n",
       "      <td>14726</td>\n",
       "      <td>37</td>\n",
       "      <td>2000</td>\n",
       "      <td>yes</td>\n",
       "      <td>4.0</td>\n",
       "    </tr>\n",
       "  </tbody>\n",
       "</table>\n",
       "</div>"
      ],
      "text/plain": [
       "      ID  Age  Income Property  Num of pets in household\n",
       "0  14578   75   20000        N                       1.0\n",
       "1  14615   72   32000        N                       2.0\n",
       "2  14652   54    2000       no                       4.0\n",
       "3  14689   81   29000       no                       1.0\n",
       "4  14726   37    2000      yes                       4.0"
      ]
     },
     "execution_count": 32,
     "metadata": {},
     "output_type": "execute_result"
    }
   ],
   "source": [
    "import pandas as pd\n",
    "df = pd.read_csv(\"Survey_data.csv\")\n",
    "df.head()"
   ]
  },
  {
   "cell_type": "code",
   "execution_count": 33,
   "id": "20186be2",
   "metadata": {},
   "outputs": [
    {
     "data": {
      "text/plain": [
       "(103, 5)"
      ]
     },
     "execution_count": 33,
     "metadata": {},
     "output_type": "execute_result"
    }
   ],
   "source": [
    "df.shape\n",
    "#103 tells your rows, 5 tells you columns, format (x,y)\n",
    "#this is good to check duplicates quickly if you have unique ID, you should have 103 unique IDs as well"
   ]
  },
  {
   "cell_type": "code",
   "execution_count": 34,
   "id": "9c19a6c8",
   "metadata": {},
   "outputs": [
    {
     "data": {
      "text/plain": [
       "100"
      ]
     },
     "execution_count": 34,
     "metadata": {},
     "output_type": "execute_result"
    }
   ],
   "source": [
    "#So we can use a function to see this\n",
    "df[\"ID\"].nunique()\n",
    "#answer is 100, meaning duplicated entries present"
   ]
  },
  {
   "cell_type": "code",
   "execution_count": 35,
   "id": "8f541037",
   "metadata": {},
   "outputs": [
    {
     "data": {
      "text/plain": [
       "0      False\n",
       "1      False\n",
       "2      False\n",
       "3      False\n",
       "4      False\n",
       "       ...  \n",
       "98      True\n",
       "99     False\n",
       "100    False\n",
       "101    False\n",
       "102    False\n",
       "Length: 103, dtype: bool"
      ]
     },
     "execution_count": 35,
     "metadata": {},
     "output_type": "execute_result"
    }
   ],
   "source": [
    "#find the duplicated rows, but does not single them out in a large data set\n",
    "df.duplicated()"
   ]
  },
  {
   "cell_type": "code",
   "execution_count": 36,
   "id": "d727a312",
   "metadata": {},
   "outputs": [
    {
     "name": "stdout",
     "output_type": "stream",
     "text": [
      "       ID  Age  Income Property  Num of pets in household\n",
      "29  15614   73   46000       NO                       2.0\n",
      "80  17464   64   24000      YES                       1.0\n",
      "98  18093   77   31000      YES                       4.0\n"
     ]
    }
   ],
   "source": [
    "#we can return rows where we have = True as the evaluation, making another df representing the duplicates\n",
    "duplicates = df[df.duplicated()]\n",
    "print(duplicates)\n"
   ]
  },
  {
   "cell_type": "code",
   "execution_count": 37,
   "id": "973577dc",
   "metadata": {},
   "outputs": [
    {
     "data": {
      "text/plain": [
       "(100, 5)"
      ]
     },
     "execution_count": 37,
     "metadata": {},
     "output_type": "execute_result"
    }
   ],
   "source": [
    "#remove duplicates now\n",
    "df = df.drop_duplicates()\n",
    "df.shape\n",
    "\n",
    "#now there are only 103 rows so the duplicates have been found and removed"
   ]
  },
  {
   "cell_type": "code",
   "execution_count": 38,
   "id": "88cd3f38",
   "metadata": {},
   "outputs": [
    {
     "data": {
      "text/plain": [
       "ID                          0\n",
       "Age                         0\n",
       "Income                      0\n",
       "Property                    0\n",
       "Num of pets in household    2\n",
       "dtype: int64"
      ]
     },
     "execution_count": 38,
     "metadata": {},
     "output_type": "execute_result"
    }
   ],
   "source": [
    "#Now looking at incomplete records\n",
    "df.isnull().sum()"
   ]
  },
  {
   "cell_type": "markdown",
   "id": "12650baf",
   "metadata": {},
   "source": [
    "Now to determine why there are missing variables in this column, hard to draw conslusions, so is it classified as MCAR? or MAR\n",
    "\n",
    "So we can use imputation techniques like deletion or mean imputation"
   ]
  },
  {
   "cell_type": "code",
   "execution_count": 39,
   "id": "9014801a",
   "metadata": {},
   "outputs": [
    {
     "data": {
      "text/plain": [
       "2.306122448979592"
      ]
     },
     "execution_count": 39,
     "metadata": {},
     "output_type": "execute_result"
    }
   ],
   "source": [
    "#MCAR so mean imputation\n",
    "#First we need average of all pets\n",
    "\n",
    "df[\"Num of pets in household\"].mean()\n"
   ]
  },
  {
   "cell_type": "markdown",
   "id": "b017d71b",
   "metadata": {},
   "source": [
    "Decimal number, we need to round"
   ]
  },
  {
   "cell_type": "code",
   "execution_count": 40,
   "id": "6ff06c71",
   "metadata": {},
   "outputs": [],
   "source": [
    "#Use round function and make variable\n",
    "avg_num_pets = round(df[\"Num of pets in household\"].mean(),0)"
   ]
  },
  {
   "cell_type": "code",
   "execution_count": 41,
   "id": "50c93f76",
   "metadata": {},
   "outputs": [],
   "source": [
    "#fillna to fill in missing values using mean\n",
    "df = df.fillna(\"avg_num_pets\")"
   ]
  },
  {
   "cell_type": "code",
   "execution_count": 43,
   "id": "db516255",
   "metadata": {},
   "outputs": [
    {
     "data": {
      "text/plain": [
       "array(['N', 'no', 'yes', 'YES', 'NO', 'Y'], dtype=object)"
      ]
     },
     "execution_count": 43,
     "metadata": {},
     "output_type": "execute_result"
    }
   ],
   "source": [
    "#property column is mixed cases with NO, y, yes, n\n",
    "#so we need to standardise the variables\n",
    "df[\"Property\"].unique()"
   ]
  },
  {
   "cell_type": "code",
   "execution_count": 44,
   "id": "72ea911e",
   "metadata": {},
   "outputs": [],
   "source": [
    "#We have 6 different types of answer in this\n",
    "#we should first convert to all same case\n",
    "df[\"Property\"] = df[\"Property\"].str.lower()"
   ]
  },
  {
   "cell_type": "code",
   "execution_count": 45,
   "id": "c4d04951",
   "metadata": {},
   "outputs": [
    {
     "data": {
      "text/plain": [
       "array(['n', 'no', 'yes', 'y'], dtype=object)"
      ]
     },
     "execution_count": 45,
     "metadata": {},
     "output_type": "execute_result"
    }
   ],
   "source": [
    "#now we only have 4 unique entries\n",
    "df[\"Property\"].unique()"
   ]
  },
  {
   "cell_type": "code",
   "execution_count": 47,
   "id": "dff4b29a",
   "metadata": {},
   "outputs": [
    {
     "data": {
      "text/plain": [
       "array(['no', 'yes'], dtype=object)"
      ]
     },
     "execution_count": 47,
     "metadata": {},
     "output_type": "execute_result"
    }
   ],
   "source": [
    "#So with n and y, we could do string indexing, or replace function\n",
    "#we want to place \"n\" to no and \"y\" to yes\n",
    "#Using inplace means this change occurs in the actual dataframe\n",
    "df.replace(\"n\", \"no\", inplace = True)\n",
    "df.replace(\"y\", \"yes\", inplace = True)\n",
    "\n",
    "#now we only have 3 unique entries\n",
    "df[\"Property\"].unique()"
   ]
  },
  {
   "cell_type": "code",
   "execution_count": null,
   "id": "b6a850e0",
   "metadata": {},
   "outputs": [],
   "source": [
    "#In larger data sets, we can use other strategies to clean data rather than replacing"
   ]
  }
 ],
 "metadata": {
  "kernelspec": {
   "display_name": "Python 3",
   "language": "python",
   "name": "python3"
  },
  "language_info": {
   "codemirror_mode": {
    "name": "ipython",
    "version": 3
   },
   "file_extension": ".py",
   "mimetype": "text/x-python",
   "name": "python",
   "nbconvert_exporter": "python",
   "pygments_lexer": "ipython3",
   "version": "3.12.3"
  }
 },
 "nbformat": 4,
 "nbformat_minor": 5
}
